{
 "cells": [
  {
   "cell_type": "code",
   "execution_count": null,
   "metadata": {},
   "outputs": [],
   "source": [
    "#Задание 1. Даны 2 строки: long_phrase и short_phrase. \n",
    "#Напишите код, который проверяет действительно ли длинная фраза long_phrase длиннее короткой short_phrase. \n",
    "#И выводит True или False в зависимости от результата сравнения."
   ]
  },
  {
   "cell_type": "code",
   "execution_count": 6,
   "metadata": {},
   "outputs": [
    {
     "data": {
      "text/plain": [
       "False"
      ]
     },
     "execution_count": 6,
     "metadata": {},
     "output_type": "execute_result"
    }
   ],
   "source": [
    "my_string_1 = 'long_phrase'\n",
    "my_string_2 = 'short_phrase'\n",
    "len('long_phrase') > len('short_phrase')"
   ]
  },
  {
   "cell_type": "code",
   "execution_count": null,
   "metadata": {},
   "outputs": [],
   "source": [
    "# Задание №2. Дано значение объема файла в байтах (в мегабайте 2^20 байт). \n",
    "#Напишите перевод этого значения в мегабайты в формате: \"Объем файла равен 213.68Mb\"."
   ]
  },
  {
   "cell_type": "code",
   "execution_count": 41,
   "metadata": {},
   "outputs": [
    {
     "name": "stdout",
     "output_type": "stream",
     "text": [
      "Введите объем файла:10000000\n",
      "Объем файла: 10000000\n"
     ]
    }
   ],
   "source": [
    "value_file = int(input('Введите объем файла:'))\n",
    "\n",
    "if value_file :\n",
    "    print('Объем файла:',  value_file)\n",
    "else:\n",
    "    print('нет данных')"
   ]
  },
  {
   "cell_type": "code",
   "execution_count": 43,
   "metadata": {},
   "outputs": [
    {
     "name": "stdout",
     "output_type": "stream",
     "text": [
      "Объем файла равен 9.54 Mb\n"
     ]
    }
   ],
   "source": [
    "a = int(2**20)\n",
    "x = value_file / a\n",
    "x = round( x , 2)\n",
    "print ('Объем файла равен', x, 'Mb')"
   ]
  },
  {
   "cell_type": "code",
   "execution_count": null,
   "metadata": {},
   "outputs": [],
   "source": [
    "#Задание 3. Разработать приложение для определения знака зодиака по дате рождения. Пример:\n",
    "\n",
    "#Введите месяц: март\n",
    "\n",
    "#Введите число: 6\n",
    "\n",
    "#Вывод: Рыбы"
   ]
  },
  {
   "cell_type": "code",
   "execution_count": 18,
   "metadata": {},
   "outputs": [
    {
     "name": "stdout",
     "output_type": "stream",
     "text": [
      "Введите месяц: май\n",
      "Введите число: 20\n",
      "Телец\n"
     ]
    }
   ],
   "source": [
    "month = input('Введите месяц: ')\n",
    "date = int(input('Введите число: '))\n",
    "if (month == 'декабрь' and date >= 22) or (month == 'январь' and date <= 19):\n",
    "    print('Козерог')\n",
    "elif (month == 'январь' and date >= 20) or (month == 'февраль' and date <= 19):\n",
    "    print('Водолей')\n",
    "elif (month == 'февраль' and date >= 20) or (month == 'март' and date <= 21):\n",
    "    print('Рыбы')\n",
    "elif (month == 'март' and date >= 22) or (month == 'апрель' and date <= 21):\n",
    "    print('Овен')\n",
    "elif (month == 'апрель' and date >= 22) or (month == 'май' and date <= 21):\n",
    "    print('Телец')\n",
    "elif (month == 'май' and date >= 22) or (month == 'июнь' and date <= 21):\n",
    "    print('Близнецы')\n",
    "elif (month == 'июнь' and date >= 22) or (month == 'июль' and date <= 21):\n",
    "    print('Рак')\n",
    "elif (month == 'июль' and date >= 22) or (month == 'август' and date <= 21):\n",
    "    print('Лев')\n",
    "elif (month == 'август' and date >= 22) or (month == 'сентябрь' and date <= 21):\n",
    "    print('Дева')\n",
    "elif (month == 'сентябрь' and date >= 22) or (month == 'октябрь' and date <= 21):\n",
    "    print('Весы')\n",
    "elif (month == 'октябрь' and date >= 22) or (month == 'ноябрь' and date <= 21):\n",
    "    print('Скорпион')\n",
    "elif (month == 'ноябрь' and date >= 22) or (month == 'декабрь' and date <= 21):\n",
    "    print('Стрелец')\n",
    "else :\n",
    "    print ('ошибка')"
   ]
  },
  {
   "cell_type": "code",
   "execution_count": null,
   "metadata": {},
   "outputs": [],
   "source": [
    "#Задание 4. Нужно разработать приложение для финансового планирования. \n",
    "#Приложение учитывает сколько уходит на ипотеку, \"на жизнь\" и сколько нужно отложить на пенсию. Пользователь вводит:\n",
    "\n",
    "#заработанную плату в месяц.\n",
    "#сколько процентов от ЗП уходит на ипотеку.\n",
    "#сколько процентов от ЗП уходит \"на жизнь\".\n",
    "#сколько раз приходит премия в год.\n",
    "#Остальная часть заработанной платы откладывается на пенсию.\n",
    "#Также пользователю приходит премия в размере зарплаты, от которой половина уходит на отпуск, а вторая половина откладывается.\n",
    "#Программа должна учитывать сколько премий было в год.\n",
    "#Нужно вывести сколько денег тратит пользователь на ипотеку и сколько он накопит за год.\n",
    "#Пример:\n",
    "#Введите заработанную плату в месяц: 100000\n",
    "#Введите сколько процентов уходит на ипотеку: 30\n",
    "#Введите сколько процентов уходит на жизнь: 50\n",
    "#Введите количество премий за год: 2\n",
    "#Вывод: На ипотеку было потрачено: 360000 рублей Было накоплено: 340000 рублей"
   ]
  },
  {
   "cell_type": "code",
   "execution_count": 9,
   "metadata": {},
   "outputs": [
    {
     "name": "stdout",
     "output_type": "stream",
     "text": [
      "Введите заработанную плату в месяц :100000\n",
      "Введите сколько процентов уходит на ипотеку : 30\n",
      "введите сколько процентов уходит на жизнь : 50\n",
      "Введите количество премий за год : 2\n",
      "На ипотеку было потрачено: 360000 рублей Было накоплено : 340000 рублей\n"
     ]
    }
   ],
   "source": [
    "salary = int(input('Введите заработанную плату в месяц :'))\n",
    "mortgage_expenses = int(input('Введите сколько процентов уходит на ипотеку : '))\n",
    "living_expenses = int(input('введите сколько процентов уходит на жизнь : '))\n",
    "bonuses = int(input('Введите количество премий за год : '))\n",
    "mortgage_sum_year = (salary * mortgage_expenses * 12 // 100)\n",
    "accumulation = ((salary*12) - mortgage_sum_year - (salary * living_expenses*12 // 100) + salary)\n",
    "print('На ипотеку было потрачено:', mortgage_sum_year, 'рублей','Было накоплено :', accumulation, 'рублей')"
   ]
  },
  {
   "cell_type": "code",
   "execution_count": null,
   "metadata": {},
   "outputs": [],
   "source": []
  }
 ],
 "metadata": {
  "kernelspec": {
   "display_name": "Python 3",
   "language": "python",
   "name": "python3"
  },
  "language_info": {
   "codemirror_mode": {
    "name": "ipython",
    "version": 3
   },
   "file_extension": ".py",
   "mimetype": "text/x-python",
   "name": "python",
   "nbconvert_exporter": "python",
   "pygments_lexer": "ipython3",
   "version": "3.7.6"
  }
 },
 "nbformat": 4,
 "nbformat_minor": 4
}
